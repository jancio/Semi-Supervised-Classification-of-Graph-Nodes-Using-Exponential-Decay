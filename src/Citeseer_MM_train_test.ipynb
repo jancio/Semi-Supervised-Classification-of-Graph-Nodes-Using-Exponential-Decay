{
 "cells": [
  {
   "cell_type": "code",
   "execution_count": 11,
   "metadata": {},
   "outputs": [
    {
     "name": "stdout",
     "output_type": "stream",
     "text": [
      "citeseer dataset: #classes = 6 , #features = 3703 , #nodes = 3327 , #edges = 4676\n",
      "Labels shapes (train, valid, test): (120, 6) (500, 6) (1000, 6)\n"
     ]
    }
   ],
   "source": [
    "######################################################################\n",
    "# Semi-Supervised Classification of Graph Nodes using Exponential Decay\n",
    "# L42: Assessment 2\n",
    "# Jan Ondras (jo356), Trinity College\n",
    "######################################################################\n",
    "# My Method - MLP_lambda:    training and testing, CITESEER dataset\n",
    "######################################################################\n",
    "\n",
    "#############################################################################################################\n",
    "# Load data for final training + testing, uses my constructed EDNI features FOR CITESEER DATASET\n",
    "#############################################################################################################\n",
    "\n",
    "import keras\n",
    "from sklearn.metrics import accuracy_score\n",
    "from sklearn.preprocessing import MinMaxScaler, StandardScaler\n",
    "from keras.models import Sequential\n",
    "from keras.layers import Dense, Dropout, Activation\n",
    "from keras.optimizers import SGD, Adam\n",
    "from keras.callbacks import EarlyStopping\n",
    "import numpy as np\n",
    "import networkx as nx\n",
    "from matplotlib import pyplot as plt\n",
    "import time\n",
    "from gcn.utils import *\n",
    "\n",
    "dataset_type = 'citeseer'\n",
    "\n",
    "# Load data\n",
    "_, _, y_train, y_val, y_test, train_mask, val_mask, test_mask = load_data(dataset_type)\n",
    "\n",
    "if dataset_type == 'citeseer':\n",
    "    N_classes = 6\n",
    "    N_features = 3703\n",
    "    N_nodes = 3327\n",
    "    N_edges = 4676 #4732 - incorrect in GCN paper !\n",
    "    if N_classes != y_train.shape[1]:\n",
    "        raise ValueError(\"Dataset dimensions differ from expected!\")\n",
    "else:\n",
    "    raise ValueError(\"Dataset not supported!\")\n",
    "print dataset_type, \"dataset:\", \"#classes =\", N_classes, \", #features =\", N_features, \", #nodes =\", N_nodes, \", #edges =\", N_edges\n",
    "\n",
    "# Prepare labels\n",
    "y_train = y_train[train_mask]\n",
    "y_val = y_val[val_mask]\n",
    "y_test = y_test[test_mask]\n",
    "\n",
    "train_batch_size = len(y_train)\n",
    "val_batch_size = len(y_val)\n",
    "test_batch_size = len(y_test)\n",
    "\n",
    "print \"Labels shapes (train, valid, test):\", y_train.shape, y_val.shape, y_test.shape"
   ]
  },
  {
   "cell_type": "code",
   "execution_count": 18,
   "metadata": {},
   "outputs": [
    {
     "name": "stdout",
     "output_type": "stream",
     "text": [
      "# hidden layers range [ 1  2  3  4  5  6  7  8  9 10]\n",
      "# hidden units range [10 15 20 25 30 35 40 45 50 55 60 65 70 75 80]\n",
      "Optimal number of hidden layers:  3\n",
      "Optimal number of hidden units:  50\n",
      "dropout 0.5 \tN_runs 100\n"
     ]
    }
   ],
   "source": [
    "#############################################################################################################\n",
    "# Load tuned parameters - from Baseline MLP validation on CITESEER dataset\n",
    "#############################################################################################################\n",
    "\n",
    "ID = 0 # zeroth trial,  smaller # of hidden sizes\n",
    "ID = 1 # first ok trial, higher # of hidden sizes\n",
    "\n",
    "# data = np.load('./../../../Dataset/baseline_' + str(ID) + '.npz')\n",
    "data = np.load('./../../../Dataset/baseline_' + str(ID) + '_Citeseer.npz') # params for Baseline MLP validated on Citeseer dataset\n",
    "\n",
    "vals = data['vals']\n",
    "vals_std = data['vals_std']\n",
    "N_hl_range = data['N_hl_range']\n",
    "N_hu_range = data['N_hu_range']\n",
    "N_runs = data['N_runs']\n",
    "dropout = data['dropout']\n",
    "epochs = data['epochs']\n",
    "\n",
    "best_N_hl = N_hl_range[np.argmax(vals) // len(N_hu_range)]\n",
    "best_N_hu = N_hu_range[np.argmax(vals) % len(N_hu_range)]\n",
    "\n",
    "print \"# hidden layers range\", N_hl_range\n",
    "print \"# hidden units range\", N_hu_range\n",
    "print \"Optimal number of hidden layers: \", best_N_hl\n",
    "print \"Optimal number of hidden units: \",  best_N_hu\n",
    "print \"dropout\", dropout, \"\\tN_runs\", N_runs"
   ]
  },
  {
   "cell_type": "code",
   "execution_count": 26,
   "metadata": {},
   "outputs": [
    {
     "name": "stdout",
     "output_type": "stream",
     "text": [
      "Processing 36 lambdas.\n",
      "Max and Min feature value in new feature set: 2.43949725325 0.0 (3327, 3703)\n",
      "Time taken:  139.975044966 2.3329265515\n",
      "Max and Min feature value in new feature set: 13.1492786963 0.0 (3327, 3703)\n",
      "Time taken:  81.3128221035 1.35521468719\n",
      "Max and Min feature value in new feature set: 28.5438876818 0.0 (3327, 3703)\n",
      "Time taken:  84.5281450748 1.40880320072\n",
      "Max and Min feature value in new feature set: 44.7771139186 0.0 (3327, 3703)\n",
      "Time taken:  98.2401468754 1.63733856678\n",
      "Max and Min feature value in new feature set: 60.4883811993 0.0 (3327, 3703)\n",
      "Time taken:  94.1954550743 1.56992713213\n",
      "Max and Min feature value in new feature set: 75.2067150501 0.0 (3327, 3703)\n",
      "Time taken:  82.1631920338 1.36938716571\n",
      "Max and Min feature value in new feature set: 88.8105659357 0.0 (3327, 3703)\n",
      "Time taken:  91.7018358707 1.52836474975\n",
      "Max and Min feature value in new feature set: 105.639767002 0.0 (3327, 3703)\n",
      "Time taken:  89.838201046 1.49730401436\n",
      "Max and Min feature value in new feature set: 122.231469233 0.0 (3327, 3703)\n",
      "Time taken:  88.5008502007 1.47501488527\n",
      "Max and Min feature value in new feature set: 138.037307441 0.0 (3327, 3703)\n",
      "Time taken:  93.3736228943 1.55623075167\n",
      "Max and Min feature value in new feature set: 153.007736997 0.0 (3327, 3703)\n",
      "Time taken:  82.8600668907 1.38100175063\n",
      "Max and Min feature value in new feature set: 167.137693514 0.0 (3327, 3703)\n",
      "Time taken:  81.9199080467 1.36533474922\n",
      "Max and Min feature value in new feature set: 192.975031026 0.0 (3327, 3703)\n",
      "Time taken:  66.2424228191 1.10404123068\n",
      "Max and Min feature value in new feature set: 215.85298613 0.0 (3327, 3703)\n",
      "Time taken:  75.607708931 1.26013005177\n",
      "Max and Min feature value in new feature set: 236.13811484 0.0 (3327, 3703)\n",
      "Time taken:  69.630656004 1.16051154931\n",
      "Max and Min feature value in new feature set: 254.182878043 0.0 (3327, 3703)\n",
      "Time taken:  70.3178880215 1.17196578185\n",
      "Max and Min feature value in new feature set: 270.300429543 0.0 (3327, 3703)\n",
      "Time taken:  70.8653829098 1.18109028339\n",
      "Max and Min feature value in new feature set: 284.75983625 0.0 (3327, 3703)\n",
      "Time taken:  69.4546320438 1.15757793188\n",
      "Max and Min feature value in new feature set: 309.579632693 0.0 (3327, 3703)\n",
      "Time taken:  73.1631820202 1.2194027861\n",
      "Max and Min feature value in new feature set: 330.066367389 0.0 (3327, 3703)\n",
      "Time taken:  68.7573058605 1.14595698118\n",
      "Max and Min feature value in new feature set: 347.233269896 0.0 (3327, 3703)\n",
      "Time taken:  70.3051249981 1.17175294956\n",
      "Max and Min feature value in new feature set: 361.810688204 0.0 (3327, 3703)\n",
      "Time taken:  65.6151120663 1.09358745019\n",
      "Max and Min feature value in new feature set: 410.602236178 0.0 (3327, 3703)\n",
      "Time taken:  74.9326550961 1.24887845119\n",
      "Max and Min feature value in new feature set: 438.22048191 0.0 (3327, 3703)\n",
      "Time taken:  69.5819079876 1.15970155001\n",
      "Max and Min feature value in new feature set: 455.957229056 0.0 (3327, 3703)\n",
      "Time taken:  69.2967181206 1.1549480319\n",
      "Max and Min feature value in new feature set: 468.302657228 0.0 (3327, 3703)\n",
      "Time taken:  73.3814809322 1.22302555243\n",
      "Max and Min feature value in new feature set: 477.387861635 0.0 (3327, 3703)\n",
      "Time taken:  79.0005810261 1.31668183406\n",
      "Max and Min feature value in new feature set: 484.352575371 0.0 (3327, 3703)\n",
      "Time taken:  77.5987269878 1.29331295093\n",
      "Max and Min feature value in new feature set: 489.861110806 0.0 (3327, 3703)\n",
      "Time taken:  129.077346087 2.15129028559\n",
      "Max and Min feature value in new feature set: 494.32668692 0.0 (3327, 3703)\n",
      "Time taken:  93.0932130814 1.55155549844\n",
      "Max and Min feature value in new feature set: 515.089556396 0.0 (3327, 3703)\n",
      "Time taken:  86.3724808693 1.43954248031\n",
      "Max and Min feature value in new feature set: 525.896546972 0.0 (3327, 3703)\n",
      "Time taken:  78.0867321491 1.30144828558\n",
      "Max and Min feature value in new feature set: 529.564269694 0.0 (3327, 3703)\n",
      "Time taken:  69.8712048531 1.16452070077\n",
      "Max and Min feature value in new feature set: 531.410597025 0.0 (3327, 3703)\n",
      "Time taken:  71.892884016 1.19822393258\n",
      "Max and Min feature value in new feature set: 532.52240917 0.0 (3327, 3703)\n",
      "Time taken:  69.4537329674 1.15756684939\n",
      "Max and Min feature value in new feature set: 534.75511587 0.0 (3327, 3703)\n",
      "Time taken:  66.7886271477 1.11314428647\n"
     ]
    }
   ],
   "source": [
    "#############################################################################################################\n",
    "# Final train & Test for each LAMBDA\n",
    "# Using best N_hl and N_hu found for the baseline method on Cora dataset\n",
    "# no feature scaling\n",
    "#############################################################################################################\n",
    "# for all possible lambdas\n",
    "lambdas = [0.25, 0.5, 0.75, 1.0, 1.25, 1.5, 1.75, 2.0, 2.25, 2.5, 2.75, 3.0, 3.5, 4.0, 4.5, 5.0, 5.5, \n",
    "           6.0, 7.0, 8.0, 9.0, 10.0, 15.0, 20.0, 25.0, 30.0, 35.0, 40.0, 45.0, 50.0, \n",
    "           100.0, 200.0, 300.0, 400.0, 500.0, 1000.0]\n",
    "print \"Processing\", len(lambdas), \"lambdas.\"\n",
    "\n",
    "test_acc = []\n",
    "test_acc_std = []\n",
    "\n",
    "N_hl = best_N_hl\n",
    "N_hu = best_N_hu\n",
    "\n",
    "for LAMBDA in lambdas: \n",
    "\n",
    "    st = time.time()\n",
    "    X = np.load('./../../../Dataset/Features_Citeseer/f_' + str(LAMBDA) + '_.npz')['X']\n",
    "    if LAMBDA != np.load('./../../../Dataset/Features_Citeseer/f_' + str(LAMBDA) + '_.npz')['LAMBDA']:\n",
    "        raise ValueError(\"Lambdas don't agree!\")\n",
    "    print \"Max and Min feature value in new feature set:\", np.max(X), np.min(X), X.shape\n",
    "\n",
    "    X_train = X[train_mask]\n",
    "    X_val   = X[val_mask]\n",
    "    X_test  = X[test_mask]\n",
    "\n",
    "    # Train & test for this LAMBDA\n",
    "    model = Sequential()\n",
    "    model.add(Dense(N_hu, activation='relu', kernel_initializer='he_uniform', input_dim=N_features))\n",
    "    model.add(Dropout(dropout))\n",
    "    for i in range(1, N_hl):\n",
    "        model.add(Dense(N_hu, activation='relu', kernel_initializer='he_uniform'))\n",
    "        model.add(Dropout(dropout))\n",
    "    model.add(Dense(N_classes, activation='softmax'))\n",
    "\n",
    "    model.compile(loss='categorical_crossentropy', optimizer=Adam(), metrics=['accuracy'])\n",
    "#     print model.summary()\n",
    "    early_stop = EarlyStopping(monitor='val_acc', patience=10, verbose=0) # stop after 10 epochs without improvement in val_acc\n",
    "\n",
    "    test_acc_actual = []\n",
    "    for i in range(N_runs):\n",
    "        model.fit(X_train, y_train, epochs=epochs, batch_size=train_batch_size, \n",
    "                   validation_data = (X_val, y_val), verbose=0, callbacks=[early_stop])\n",
    "\n",
    "        test_acc_actual.append( model.evaluate(X_test, y_test, batch_size=test_batch_size, verbose=0)[1] )\n",
    "        \n",
    "    test_acc.append( np.mean(test_acc_actual) )\n",
    "    test_acc_std.append( np.std(test_acc_actual) )  \n",
    "    \n",
    "    print \"Time taken: \", time.time()-st, (time.time()-st)/60. \n",
    "    \n",
    "test_acc = np.array(test_acc)\n",
    "test_acc_std = np.array(test_acc_std)"
   ]
  },
  {
   "cell_type": "code",
   "execution_count": 27,
   "metadata": {},
   "outputs": [
    {
     "name": "stdout",
     "output_type": "stream",
     "text": [
      "[0.5558600008487702, 0.6441199994087219, 0.6549699991941452, 0.6059299984574318, 0.4404400023818016, 0.47425000101327897, 0.46889999985694886, 0.3215300000458956, 0.2367099991440773, 0.2982999996840954, 0.19153000071644782, 0.23587000027298927, 0.25244999915361405, 0.26637000024318697, 0.2299600002914667, 0.18315999910235406, 0.22879999965429307, 0.2086800006777048, 0.2213799986988306, 0.22171999961137773, 0.22588999986648559, 0.20247000008821486, 0.23011999905109407, 0.23152999967336654, 0.21007000014185906, 0.23068999968469142, 0.22658999919891357, 0.17575999975204468, 0.20401999920606614, 0.2001799999177456, 0.204529999345541, 0.21567999988794326, 0.1897400002926588, 0.2162200003862381, 0.21747000023722649, 0.19086999982595443]\n",
      "[0.01432760892214896, 0.0066185782293885845, 0.007384381808736592, 0.033374020174716475, 0.014487457188884945, 0.04984182599888458, 0.05137324214202001, 0.07935659470264748, 0.03260591698183285, 0.024181191050162528, 0.013654637019411248, 0.025485546466980844, 0.014310398230466433, 0.015270662312966643, 0.03254133300388936, 0.033217380706210387, 0.010705138337054334, 0.04336355166003854, 0.03583762854987894, 0.014133704299782711, 0.04445129854800063, 0.037158163431927564, 0.022802315401203286, 0.02440428475769273, 0.02220732021051682, 0.021705619171743865, 0.03492279858819937, 0.034921660378892716, 0.026162562099077347, 0.04066334452223994, 0.023340717578576996, 0.024941082676925092, 0.01631908041761595, 0.0115529910137204, 0.0066969475611151985, 0.02448250602435723]\n"
     ]
    }
   ],
   "source": [
    "# To save the testing results\n",
    "print test_acc.tolist()\n",
    "print test_acc_std.tolist()\n",
    "\n",
    "# [0.5558600008487702, 0.6441199994087219, 0.6549699991941452, 0.6059299984574318, 0.4404400023818016, 0.47425000101327897, 0.46889999985694886, 0.3215300000458956, 0.2367099991440773, 0.2982999996840954, 0.19153000071644782, 0.23587000027298927, 0.25244999915361405, 0.26637000024318697, 0.2299600002914667, 0.18315999910235406, 0.22879999965429307, 0.2086800006777048, 0.2213799986988306, 0.22171999961137773, 0.22588999986648559, 0.20247000008821486, 0.23011999905109407, 0.23152999967336654, 0.21007000014185906, 0.23068999968469142, 0.22658999919891357, 0.17575999975204468, 0.20401999920606614, 0.2001799999177456, 0.204529999345541, 0.21567999988794326, 0.1897400002926588, 0.2162200003862381, 0.21747000023722649, 0.19086999982595443]\n",
    "# [0.01432760892214896, 0.0066185782293885845, 0.007384381808736592, 0.033374020174716475, 0.014487457188884945, 0.04984182599888458, 0.05137324214202001, 0.07935659470264748, 0.03260591698183285, 0.024181191050162528, 0.013654637019411248, 0.025485546466980844, 0.014310398230466433, 0.015270662312966643, 0.03254133300388936, 0.033217380706210387, 0.010705138337054334, 0.04336355166003854, 0.03583762854987894, 0.014133704299782711, 0.04445129854800063, 0.037158163431927564, 0.022802315401203286, 0.02440428475769273, 0.02220732021051682, 0.021705619171743865, 0.03492279858819937, 0.034921660378892716, 0.026162562099077347, 0.04066334452223994, 0.023340717578576996, 0.024941082676925092, 0.01631908041761595, 0.0115529910137204, 0.0066969475611151985, 0.02448250602435723]\n"
   ]
  },
  {
   "cell_type": "code",
   "execution_count": 31,
   "metadata": {},
   "outputs": [
    {
     "data": {
      "image/png": "[encoded data removed]",
      "text/plain": [
       "<matplotlib.figure.Figure at 0x7f73c12f6ad0>"
      ]
     },
     "metadata": {},
     "output_type": "display_data"
    },
    {
     "name": "stdout",
     "output_type": "stream",
     "text": [
      "Max Testing accuracy:  0.654969999194 +/- 0.00738438180874 for 0.75\n",
      "Citeseer\n"
     ]
    }
   ],
   "source": [
    "#############################################################################################################\n",
    "# Show testing results, for chosen lambdas\n",
    "#############################################################################################################\n",
    "\n",
    "lambdas = [0.25, 0.5, 0.75, 1.0, 1.25, 1.5, 1.75, 2.0, 2.25, 2.5, 2.75, 3.0, 3.5, 4.0, 4.5, 5.0, 5.5, \n",
    "           6.0, 7.0, 8.0, 9.0, 10.0, 15.0, 20.0, 25.0, 30.0, 35.0, 40.0, 45.0, 50.0, \n",
    "           100.0, 200.0, 300.0, 400.0, 500.0, 1000.0]\n",
    "\n",
    "N_std = 1\n",
    "showN = 36 # max 36\n",
    "plt.figure(figsize=[10,6])\n",
    "plt.plot(lambdas[:showN], test_acc[:showN],'o-')\n",
    "plt.fill_between(lambdas[:showN],  test_acc[:showN]-N_std*test_acc_std[:showN],  test_acc[:showN]+N_std*test_acc_std[:showN], alpha=.2)\n",
    "# plt.legend(['Training loss', 'Validation Loss'],fontsize=18)\n",
    "plt.xlabel('$\\lambda$')\n",
    "plt.ylabel('Testing accuracy')\n",
    "#plt.xticks(lambdas[:showN], lambdas[:showN])#, rotation=45)\n",
    "plt.legend(['Maximum at $\\lambda$ = '+str(lambdas[np.argmax(test_acc)])])\n",
    "plt.xscale('log')\n",
    "plt.show()\n",
    "\n",
    "print \"Max Testing accuracy: \",np.max(test_acc), \"+/-\", test_acc_std[np.argmax(test_acc)], \"for\", lambdas[np.argmax(test_acc)]\n",
    "print \"Citeseer\""
   ]
  },
  {
   "cell_type": "code",
   "execution_count": null,
   "metadata": {},
   "outputs": [],
   "source": [
    "Max Testing accuracy:  0.654969999194 +/- 0.00738438180874 for 0.75"
   ]
  },
  {
   "cell_type": "code",
   "execution_count": null,
   "metadata": {},
   "outputs": [],
   "source": []
  }
 ],
 "metadata": {
  "kernelspec": {
   "display_name": "Python 2",
   "language": "python",
   "name": "python2"
  },
  "language_info": {
   "codemirror_mode": {
    "name": "ipython",
    "version": 2
   },
   "file_extension": ".py",
   "mimetype": "text/x-python",
   "name": "python",
   "nbconvert_exporter": "python",
   "pygments_lexer": "ipython2",
   "version": "2.7.12"
  }
 },
 "nbformat": 4,
 "nbformat_minor": 2
}
