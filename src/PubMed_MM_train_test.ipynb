{
 "cells": [
  {
   "cell_type": "code",
   "execution_count": 1,
   "metadata": {},
   "outputs": [
    {
     "name": "stderr",
     "output_type": "stream",
     "text": [
      "Using TensorFlow backend.\n"
     ]
    },
    {
     "name": "stdout",
     "output_type": "stream",
     "text": [
      "pubmed dataset: #classes = 3 , #features = 500 , #nodes = 19717 , #edges = 44327\n",
      "Labels shapes (train, valid, test): (60, 3) (500, 3) (1000, 3)\n"
     ]
    }
   ],
   "source": [
    "######################################################################\n",
    "# Semi-Supervised Classification of Graph Nodes using Exponential Decay\n",
    "# L42: Assessment 2\n",
    "# Jan Ondras (jo356), Trinity College\n",
    "######################################################################\n",
    "# My Method - MLP_lambda:    training and testing, PUBMED dataset\n",
    "######################################################################\n",
    "\n",
    "#############################################################################################################\n",
    "# Load data for final training + testing, uses my constructed EDNI features FOR PUBMED DATASET\n",
    "#############################################################################################################\n",
    "\n",
    "import keras\n",
    "from sklearn.metrics import accuracy_score\n",
    "from sklearn.preprocessing import MinMaxScaler, StandardScaler\n",
    "from keras.models import Sequential\n",
    "from keras.layers import Dense, Dropout, Activation\n",
    "from keras.optimizers import SGD, Adam\n",
    "from keras.callbacks import EarlyStopping\n",
    "import numpy as np\n",
    "import networkx as nx\n",
    "from matplotlib import pyplot as plt\n",
    "import time\n",
    "from gcn.utils import *\n",
    "\n",
    "dataset_type = 'pubmed'\n",
    "\n",
    "# Load data\n",
    "_, _, y_train, y_val, y_test, train_mask, val_mask, test_mask = load_data(dataset_type)\n",
    "\n",
    "if dataset_type == 'pubmed':\n",
    "    N_classes = 3\n",
    "    N_features = 500\n",
    "    N_nodes = 19717\n",
    "    N_edges = 44327 #44338 - incorrect in GCN paper !\n",
    "    if N_classes != y_train.shape[1]:\n",
    "        raise ValueError(\"Dataset dimensions differ from expected!\")\n",
    "else:\n",
    "    raise ValueError(\"Dataset not supported!\")\n",
    "print dataset_type, \"dataset:\", \"#classes =\", N_classes, \", #features =\", N_features, \", #nodes =\", N_nodes, \", #edges =\", N_edges\n",
    "\n",
    "# Prepare labels\n",
    "y_train = y_train[train_mask]\n",
    "y_val = y_val[val_mask]\n",
    "y_test = y_test[test_mask]\n",
    "\n",
    "train_batch_size = len(y_train)\n",
    "val_batch_size = len(y_val)\n",
    "test_batch_size = len(y_test)\n",
    "\n",
    "print \"Labels shapes (train, valid, test):\", y_train.shape, y_val.shape, y_test.shape"
   ]
  },
  {
   "cell_type": "code",
   "execution_count": 14,
   "metadata": {},
   "outputs": [
    {
     "name": "stdout",
     "output_type": "stream",
     "text": [
      "# hidden layers range [ 1  2  3  4  5  6  7  8  9 10]\n",
      "# hidden units range [10 15 20 25 30 35 40 45 50 55 60 65 70 75 80]\n",
      "Optimal number of hidden layers:  2\n",
      "Optimal number of hidden units:  20\n",
      "dropout 0.5 \tN_runs 100\n"
     ]
    }
   ],
   "source": [
    "#############################################################################################################\n",
    "# Load tuned parameters - from Baseline MLP validation on Cora dataset\n",
    "#############################################################################################################\n",
    "\n",
    "ID = 0 # zeroth trial,  smaller # of hidden sizes\n",
    "ID = 1 # first ok trial, higher # of hidden sizes\n",
    "\n",
    "# data = np.load('./../../../Dataset/baseline_' + str(ID) + '.npz')\n",
    "data = np.load('./../../../Dataset/baseline_' + str(ID) + '_PubMed.npz') ############## CHOOSE !!!\n",
    "vals = data['vals']\n",
    "vals_std = data['vals_std']\n",
    "N_hl_range = data['N_hl_range']\n",
    "N_hu_range = data['N_hu_range']\n",
    "N_runs = data['N_runs']\n",
    "dropout = data['dropout']\n",
    "epochs = data['epochs']\n",
    "\n",
    "best_N_hl = N_hl_range[np.argmax(vals) // len(N_hu_range)]\n",
    "best_N_hu = N_hu_range[np.argmax(vals) % len(N_hu_range)]\n",
    "\n",
    "print \"# hidden layers range\", N_hl_range\n",
    "print \"# hidden units range\", N_hu_range\n",
    "print \"Optimal number of hidden layers: \", best_N_hl\n",
    "print \"Optimal number of hidden units: \",  best_N_hu\n",
    "print \"dropout\", dropout, \"\\tN_runs\", N_runs"
   ]
  },
  {
   "cell_type": "code",
   "execution_count": 15,
   "metadata": {},
   "outputs": [
    {
     "name": "stdout",
     "output_type": "stream",
     "text": [
      "Processing 36 lambdas.\n",
      "Max and Min feature value in new feature set: 1.27436321844 3.88783913973e-19 (19717, 500)\n",
      "Time taken:  38.2351388931 0.637257047494\n",
      "Max and Min feature value in new feature set: 3.11254109214 1.64227472877e-09 (19717, 500)\n",
      "Time taken:  36.2238340378 0.603732200464\n",
      "Max and Min feature value in new feature set: 8.98790068574 3.62163863392e-06 (19717, 500)\n",
      "Time taken:  40.1343829632 0.668912100792\n",
      "Max and Min feature value in new feature set: 17.0244838427 0.000189873539619 (19717, 500)\n",
      "Time taken:  44.1478309631 0.73579788208\n",
      "Max and Min feature value in new feature set: 27.3523267862 0.0021006518842 (19717, 500)\n",
      "Time taken:  41.662858963 0.694381550948\n",
      "Max and Min feature value in new feature set: 38.3791569294 0.0103476958446 (19717, 500)\n",
      "Time taken:  41.1011018753 0.685018980503\n",
      "Max and Min feature value in new feature set: 49.4997329268 0.032651031543 (19717, 500)\n",
      "Time taken:  37.9255018234 0.632093298435\n",
      "Max and Min feature value in new feature set: 60.3605969633 0.0777297995737 (19717, 500)\n",
      "Time taken:  26.2957091331 0.438265200456\n",
      "Max and Min feature value in new feature set: 70.7702131686 0.153105287829 (19717, 500)\n",
      "Time taken:  27.954433918 0.46591184934\n",
      "Max and Min feature value in new feature set: 80.6360312428 0.263881343857 (19717, 500)\n",
      "Time taken:  29.4881680012 0.491470082601\n",
      "Max and Min feature value in new feature set: 89.9243146896 0.412511447743 (19717, 500)\n",
      "Time taken:  27.4140191078 0.456901435057\n",
      "Max and Min feature value in new feature set: 98.6354131835 0.599149166257 (19717, 500)\n",
      "Time taken:  28.0856649876 0.468095199267\n",
      "Max and Min feature value in new feature set: 114.516951025 1.07898848079 (19717, 500)\n",
      "Time taken:  29.1082279682 0.485146399339\n",
      "Max and Min feature value in new feature set: 128.727209041 1.67971799657 (19717, 500)\n",
      "Time taken:  28.9591159821 0.482652731737\n",
      "Max and Min feature value in new feature set: 141.140701871 2.37193472887 (19717, 500)\n",
      "Time taken:  29.902310133 0.498372503122\n",
      "Max and Min feature value in new feature set: 152.033430418 3.12769972667 (19717, 500)\n",
      "Time taken:  28.9117741585 0.481866033872\n",
      "Max and Min feature value in new feature set: 161.643248512 3.92336817121 (19717, 500)\n",
      "Time taken:  29.2305319309 0.487176132202\n",
      "Max and Min feature value in new feature set: 170.16886491 4.74015295203 (19717, 500)\n",
      "Time taken:  29.547478199 0.492460636298\n",
      "Max and Min feature value in new feature set: 185.474561804 6.38340508053 (19717, 500)\n",
      "Time taken:  28.4440410137 0.474067902565\n",
      "Max and Min feature value in new feature set: 200.12422621 7.9820799781 (19717, 500)\n",
      "Time taken:  30.7066771984 0.511782236894\n",
      "Max and Min feature value in new feature set: 212.372920119 9.43953373272 (19717, 500)\n",
      "Time taken:  28.4730160236 0.474550882975\n",
      "Max and Min feature value in new feature set: 222.748782658 10.7968372289 (19717, 500)\n",
      "Time taken:  29.3423919678 0.489042898019\n",
      "Max and Min feature value in new feature set: 257.262299164 16.1715480217 (19717, 500)\n",
      "Time taken:  29.6792020798 0.494653900464\n",
      "Max and Min feature value in new feature set: 276.624442993 19.8021903641 (19717, 500)\n",
      "Time taken:  28.6389291286 0.477317468325\n",
      "Max and Min feature value in new feature set: 288.984651248 22.3648008364 (19717, 500)\n",
      "Time taken:  27.8693950176 0.464493000507\n",
      "Max and Min feature value in new feature set: 297.551814288 24.2566437968 (19717, 500)\n",
      "Time taken:  29.0673248768 0.484458514055\n",
      "Max and Min feature value in new feature set: 303.837161726 25.7060743785 (19717, 500)\n",
      "Time taken:  28.0439879894 0.467405815919\n",
      "Max and Min feature value in new feature set: 308.644216929 26.850221396 (19717, 500)\n",
      "Time taken:  28.3167040348 0.47194788456\n",
      "Max and Min feature value in new feature set: 312.439198343 27.7755231271 (19717, 500)\n",
      "Time taken:  28.9380431175 0.482301235199\n",
      "Max and Min feature value in new feature set: 315.511074956 28.5388766667 (19717, 500)\n",
      "Time taken:  28.4855160713 0.474759133657\n",
      "Max and Min feature value in new feature set: 329.739359 32.2445950489 (19717, 500)\n",
      "Time taken:  28.3204600811 0.472009833654\n",
      "Max and Min feature value in new feature set: 337.109173129 34.2758303923 (19717, 500)\n",
      "Time taken:  28.7942240238 0.47990436554\n",
      "Max and Min feature value in new feature set: 339.604718568 34.9812069177 (19717, 500)\n",
      "Time taken:  29.0737638474 0.48456343015\n",
      "Max and Min feature value in new feature set: 340.859893443 35.339368009 (19717, 500)\n",
      "Time taken:  29.6438951492 0.494067120552\n",
      "Max and Min feature value in new feature set: 341.615374207 35.5560374833 (19717, 500)\n",
      "Time taken:  29.5815780163 0.493027134736\n",
      "Max and Min feature value in new feature set: 343.131698626 35.9934058771 (19717, 500)\n",
      "Time taken:  28.3088829517 0.471815399329\n"
     ]
    }
   ],
   "source": [
    "#############################################################################################################\n",
    "# Final train & Test for each LAMBDA\n",
    "# Using best N_hl and N_hu found for the baseline method on Cora dataset\n",
    "# no feature scaling\n",
    "#############################################################################################################\n",
    "# for all possible lambdas\n",
    "lambdas = [0.25, 0.5, 0.75, 1.0, 1.25, 1.5, 1.75, 2.0, 2.25, 2.5, 2.75, 3.0, 3.5, 4.0, 4.5, 5.0, 5.5, \n",
    "           6.0, 7.0, 8.0, 9.0, 10.0, 15.0, 20.0, 25.0, 30.0, 35.0, 40.0, 45.0, 50.0, \n",
    "           100.0, 200.0, 300.0, 400.0, 500.0, 1000.0]\n",
    "print \"Processing\", len(lambdas), \"lambdas.\"\n",
    "\n",
    "test_acc = []\n",
    "test_acc_std = []\n",
    "\n",
    "N_hl = best_N_hl\n",
    "N_hu = best_N_hu\n",
    "\n",
    "for LAMBDA in lambdas: \n",
    "\n",
    "    st = time.time()\n",
    "    X = np.load('./../../../Dataset/Features_PubMed/f_' + str(LAMBDA) + '_.npz')['X']\n",
    "    if LAMBDA != np.load('./../../../Dataset/Features_PubMed/f_' + str(LAMBDA) + '_.npz')['LAMBDA']:\n",
    "        raise ValueError(\"Lambdas don't agree!\")\n",
    "    print \"Max and Min feature value in new feature set:\", np.max(X), np.min(X), X.shape\n",
    "\n",
    "    X_train = X[train_mask]\n",
    "    X_val   = X[val_mask]\n",
    "    X_test  = X[test_mask]\n",
    "\n",
    "    # Train & test for this LAMBDA\n",
    "    model = Sequential()\n",
    "    model.add(Dense(N_hu, activation='relu', kernel_initializer='he_uniform', input_dim=N_features))\n",
    "    model.add(Dropout(dropout))\n",
    "    for i in range(1, N_hl):\n",
    "        model.add(Dense(N_hu, activation='relu', kernel_initializer='he_uniform'))\n",
    "        model.add(Dropout(dropout))\n",
    "    model.add(Dense(N_classes, activation='softmax'))\n",
    "\n",
    "    model.compile(loss='categorical_crossentropy', optimizer=Adam(), metrics=['accuracy'])\n",
    "#     print model.summary()\n",
    "    early_stop = EarlyStopping(monitor='val_acc', patience=10, verbose=0) # stop after 10 epochs without improvement in val_acc\n",
    "\n",
    "    test_acc_actual = []\n",
    "    for i in range(N_runs):\n",
    "        model.fit(X_train, y_train, epochs=epochs, batch_size=train_batch_size, \n",
    "                   validation_data = (X_val, y_val), verbose=0, callbacks=[early_stop])\n",
    "\n",
    "        test_acc_actual.append( model.evaluate(X_test, y_test, batch_size=test_batch_size, verbose=0)[1] )\n",
    "        \n",
    "    test_acc.append( np.mean(test_acc_actual) )\n",
    "    test_acc_std.append( np.std(test_acc_actual) )  \n",
    "    \n",
    "    # Save testing results, 1=from baseline_1, 0=no feature scaling\n",
    "#     np.savez('./../../../Dataset/MyMethodSimpleX/mm_simple_1_0_' + str(LAMBDA) + '_.npz', \n",
    "#              test_acc=test_acc[-1], test_acc_std=test_acc_std[-1], LAMBDA=LAMBDA)\n",
    "    \n",
    "    print \"Time taken: \", time.time()-st, (time.time()-st)/60. # 20sec for one lambda\n",
    "    \n",
    "test_acc = np.array(test_acc)\n",
    "test_acc_std = np.array(test_acc_std)"
   ]
  },
  {
   "cell_type": "code",
   "execution_count": 37,
   "metadata": {},
   "outputs": [],
   "source": [
    "# To save the testing results\n",
    "# print test_acc.tolist()\n",
    "# print test_acc_std.tolist()\n",
    "\n",
    "test_acc = [0.7174999994039536, 0.7471500039100647, 0.774640000462532, 0.7683999979496002, 0.7505900034308434, 0.6224899998307228, 0.6330000001192093, 0.6187900030612945, 0.2742100030183792, 0.320920005440712, 0.2671200014650822, 0.22194000363349914, 0.20457000583410262, 0.34262999311089515, 0.2659700006246567, 0.3254799953103065, 0.2912999993562698, 0.25649000465869903, 0.302199998497963, 0.31871999859809874, 0.24613000571727753, 0.35575000286102293, 0.2866900062561035, 0.32313999891281125, 0.3011500036716461, 0.3843000054359436, 0.1916500061750412, 0.33890999913215636, 0.40730000436306, 0.38228999137878417, 0.4120999902486801, 0.40700000524520874, 0.40833998799324034, 0.34117000579833984, 0.396329990029335, 0.32833999693393706]\n",
    "test_acc_std = [0.00386135053416318, 0.012783096339805046, 0.01532156635450226, 0.015524818354550494, 0.04197668352289177, 0.05846494641923644, 0.031639533234629, 0.03854070344463223, 0.11302992859181273, 0.11032829781271254, 0.11271692729313616, 0.08951566932832222, 0.06990797222540596, 0.10879996346792398, 0.11218594912608768, 0.11612393735633647, 0.11585606632560781, 0.10900206023769364, 0.11531989462207289, 0.11328442077837202, 0.10348059057853742, 0.0960774012064291, 0.1132955148463313, 0.112084427661421, 0.11410279019483521, 0.06809999942779542, 0.05078116843135463, 0.10654304631759128, 0.0013076658378649798, 0.07821115606342283, 0.0021424222287607458, 0.0, 0.0326199972629547, 0.10300398497972649, 0.059367503994063105, 0.1112717514590238]\n",
    "\n",
    "test_acc = np.array(test_acc)\n",
    "test_acc_std = np.array(test_acc_std)"
   ]
  },
  {
   "cell_type": "code",
   "execution_count": 40,
   "metadata": {
    "scrolled": false
   },
   "outputs": [
    {
     "data": {
      "image/png": "[encoded data removed]",
      "text/plain": [
       "<matplotlib.figure.Figure at 0x7fc40fa8b810>"
      ]
     },
     "metadata": {},
     "output_type": "display_data"
    },
    {
     "name": "stdout",
     "output_type": "stream",
     "text": [
      "Max Testing accuracy:  0.774640000463 +/- 0.0153215663545 for 0.75\n",
      "PubMed, using PubMed best params\n"
     ]
    }
   ],
   "source": [
    "#############################################################################################################\n",
    "# Show testing results, for chosen lambdas\n",
    "#############################################################################################################\n",
    "\n",
    "lambdas = [0.25, 0.5, 0.75, 1.0, 1.25, 1.5, 1.75, 2.0, 2.25, 2.5, 2.75, 3.0, 3.5, 4.0, 4.5, 5.0, 5.5, \n",
    "           6.0, 7.0, 8.0, 9.0, 10.0, 15.0, 20.0, 25.0, 30.0, 35.0, 40.0, 45.0, 50.0, \n",
    "           100.0, 200.0, 300.0, 400.0, 500.0, 1000.0]\n",
    "\n",
    "N_std = 1\n",
    "showN = 36 # max 36\n",
    "plt.figure(figsize=[10,6])\n",
    "plt.plot(lambdas[:showN], test_acc[:showN],'o-')\n",
    "plt.fill_between(lambdas[:showN],  test_acc[:showN]-N_std*test_acc_std[:showN],  test_acc[:showN]+N_std*test_acc_std[:showN], alpha=.2)\n",
    "# plt.legend(['Training loss', 'Validation Loss'],fontsize=18)\n",
    "plt.xlabel('$\\lambda$')\n",
    "plt.ylabel('Testing accuracy')\n",
    "#plt.xticks(lambdas[:showN], lambdas[:showN])#, rotation=45)\n",
    "plt.legend(['Maximum at $\\lambda$ = '+str(lambdas[np.argmax(test_acc)])])\n",
    "plt.xscale('log')\n",
    "plt.show()\n",
    "\n",
    "print \"Max Testing accuracy: \",np.max(test_acc), \"+/-\", test_acc_std[np.argmax(test_acc)], \"for\", lambdas[np.argmax(test_acc)]\n",
    "print \"PubMed, using PubMed best params\""
   ]
  },
  {
   "cell_type": "code",
   "execution_count": null,
   "metadata": {},
   "outputs": [],
   "source": [
    "Max Testing accuracy:  0.774640000463 for 0.75"
   ]
  },
  {
   "cell_type": "code",
   "execution_count": null,
   "metadata": {},
   "outputs": [],
   "source": []
  }
 ],
 "metadata": {
  "kernelspec": {
   "display_name": "Python 2",
   "language": "python",
   "name": "python2"
  },
  "language_info": {
   "codemirror_mode": {
    "name": "ipython",
    "version": 2
   },
   "file_extension": ".py",
   "mimetype": "text/x-python",
   "name": "python",
   "nbconvert_exporter": "python",
   "pygments_lexer": "ipython2",
   "version": "2.7.12"
  }
 },
 "nbformat": 4,
 "nbformat_minor": 2
}
